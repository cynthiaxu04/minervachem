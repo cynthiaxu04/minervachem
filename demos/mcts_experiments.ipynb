{
 "cells": [
  {
   "cell_type": "code",
   "execution_count": null,
   "metadata": {},
   "outputs": [],
   "source": [
    "import matplotlib\n",
    "matplotlib.__version__"
   ]
  },
  {
   "cell_type": "code",
   "execution_count": null,
   "metadata": {},
   "outputs": [],
   "source": [
    "from tree import *\n",
    "from tree_viz import *\n",
    "# import json\n",
    "from rdkit import RDLogger\n",
    "from IPython.display import display\n",
    "import random\n",
    "RDLogger.DisableLog('rdApp.*') "
   ]
  },
  {
   "cell_type": "code",
   "execution_count": null,
   "metadata": {},
   "outputs": [],
   "source": [
    "seed = 42\n",
    "random.seed(seed)\n",
    "\n",
    "state = random.getstate()\n",
    "\n",
    "random.setstate(state)"
   ]
  },
  {
   "cell_type": "markdown",
   "metadata": {},
   "source": [
    "# Input parameters"
   ]
  },
  {
   "cell_type": "code",
   "execution_count": null,
   "metadata": {},
   "outputs": [],
   "source": [
    "# choose to either run parallel trees MCTS or single tree MCTS\n",
    "parallel = True\n",
    "\n",
    "# levels: number of \"turns\"\n",
    "levels = 5\n",
    "# number of simulations, default 10000; set smaller to test code\n",
    "num_sims = 10000\n",
    "\n",
    "# filename to save MCTS output molecule\n",
    "filename = 'mcts_molecules.json'\n",
    "\n",
    "# size of molecule\n",
    "# size = 10\n",
    "# target of chemical characteristic\n",
    "# in this case it is log P\n",
    "goal = 2.3406\n",
    "# target of synthesizability score\n",
    "sa_target = 0\n",
    "# SMILES symbols that are choices for molecular generation\n",
    "choices = ['C', 'O', '=', 'N', 'c', '1', 'S', 'P', 'F', '\\n']\n",
    "# max value of target chemical characteristic\n",
    "max_value1 = 20\n",
    "# max value of synthesizability score\n",
    "max_value2 = 10\n",
    "# counter to track number of turns\n",
    "turn = levels + 2\n",
    "\n",
    "# set the beamsize\n",
    "beamsize = 10\n",
    "# boltzmann constant\n",
    "alpha = 2"
   ]
  },
  {
   "cell_type": "markdown",
   "metadata": {},
   "source": [
    "# Run MCTS"
   ]
  },
  {
   "cell_type": "code",
   "execution_count": null,
   "metadata": {},
   "outputs": [],
   "source": [
    "if parallel:\n",
    "    current_nodes = [Node(State(\n",
    "        goal=goal, \n",
    "        sa_target=sa_target, \n",
    "        allchoices=choices,\n",
    "        max_value1=max_value1,\n",
    "        max_value2=max_value2, \n",
    "        turn=turn))]\n",
    "    for l in range(levels):\n",
    "        logger.info(f\"This is the turn number: {l}\")\n",
    "        next_nodes=utcbeam(budget=num_sims,rootpop=current_nodes, beamsize=beamsize, alpha=alpha)\n",
    "        for i in current_nodes:\n",
    "            print(f\"Level {l}\")\n",
    "            print(f\"This is one of the current nodes: {i}\")\n",
    "            print(f\"Num Children: {len(i.children)}\")\n",
    "            for j,c in enumerate(i.children):\n",
    "                print(j,c)\n",
    "        print(\"These are the best children:\")\n",
    "        for i in next_nodes:\n",
    "            print(i)\n",
    "        current_nodes = next_nodes\n",
    "        print(\"--------------------------------\")\n",
    "\n",
    "    logger.info(\"MCTS finished.\")\n",
    "\n",
    "else:\n",
    "    current_node = Node(State(\n",
    "    # size=size, \n",
    "    goal=goal, \n",
    "    sa_target=sa_target, \n",
    "    allchoices=choices,\n",
    "    max_value1=max_value1,\n",
    "    max_value2=max_value2, \n",
    "    turn=turn))\n",
    "    for l in range(levels):\n",
    "        logger.info(f\"This is the turn number: {l}\")\n",
    "        next_node=utcsearch(num_sims/(l+1),current_node, alpha=alpha) #budget = num_sims/(l+1)\n",
    "        # as the increment of turns increases, the budget/number of simulations decreases\n",
    "        # next_node is the node that is best known child or a newly expanded child node with the highets reward value\n",
    "        print(f\"level {l}\")\n",
    "        print(f\"Num Children: {len(current_node.children)}\")\n",
    "        for i,c in enumerate(current_node.children):\n",
    "            print(i,c)\n",
    "        print(f\"Best Child: {next_node.state}\")\n",
    "        current_node = next_node\n",
    "        print(\"--------------------------------\")\n",
    "\n",
    "    logger.info(\"MCTS finished.\")"
   ]
  },
  {
   "cell_type": "code",
   "execution_count": null,
   "metadata": {},
   "outputs": [],
   "source": [
    "# root_node = current_node\n",
    "# while root_node.parent is not None:\n",
    "#     root_node = root_node.parent\n",
    "# out1 = tree_search(root_node,thresh=4)\n",
    "# out1"
   ]
  },
  {
   "cell_type": "markdown",
   "metadata": {},
   "source": [
    "# Visualize final output molecule(s)"
   ]
  },
  {
   "cell_type": "code",
   "execution_count": null,
   "metadata": {},
   "outputs": [],
   "source": [
    "if parallel:\n",
    "    allsmiles = []\n",
    "    allmols = []\n",
    "    \n",
    "    for i in current_nodes:\n",
    "        smiles = i.state.smiles\n",
    "        allsmiles += [smiles]\n",
    "\n",
    "        mol = Chem.MolFromSmiles(smiles)\n",
    "        allmols.append(mol)\n",
    "        mol.SetProp(\"name\", str(Chem.rdMolDescriptors.CalcMolFormula(mol)))\n",
    "        mol.SetProp(\"logP\", str(f\"{Descriptors.MolLogP(mol):.3f}\"))\n",
    "        mol.SetProp(\"SA score\", str(f\"{sascorer.calculateScore(mol):.3f}\"))\n",
    "    \n",
    "    img = Chem.Draw.MolsToGridImage(\n",
    "        allmols, \n",
    "        legends=[f\"{mol.GetProp('name')}\\nlogP: {mol.GetProp('logP')}\\nSA: {mol.GetProp('SA score')}\" for mol in allmols],\n",
    "        subImgSize=(350,350))\n",
    "    \n",
    "    display(img)\n",
    "\n",
    "else:\n",
    "    smiles = ''.join(current_node.state.moves)\n",
    "    mol = Chem.MolFromSmiles(smiles)\n",
    "    logp = Descriptors.MolLogP(mol)\n",
    "    sa_score = sascorer.calculateScore(mol)\n",
    "    print(f\"SA score: {sa_score:.3f}\")\n",
    "    print(f\"LogP: {logp:.3f}\")\n",
    "    display(mol)"
   ]
  },
  {
   "cell_type": "markdown",
   "metadata": {},
   "source": [
    "# Visualize the search tree of the best children"
   ]
  },
  {
   "cell_type": "code",
   "execution_count": null,
   "metadata": {
    "scrolled": false
   },
   "outputs": [],
   "source": [
    "if parallel:\n",
    "    for i, j in enumerate(current_nodes):\n",
    "        tuples = make_tree_nodes(node=j, size=levels)\n",
    "        node_info = make_node_info(node=j, size=levels)\n",
    "        # display(node_info)\n",
    "        mass_plotting(node_info=node_info, params=['visits', 'reward', 'logp', 'sa_score'], tuples=tuples, smiles=allsmiles[i])\n",
    "else:\n",
    "    tuples = make_tree_nodes(node=current_node, size=turn)\n",
    "    node_info = make_node_info(node=current_node, size=turn)\n",
    "    mass_plotting(node_info=node_info, tuples=tuples, smiles=smiles)"
   ]
  },
  {
   "cell_type": "markdown",
   "metadata": {},
   "source": [
    "# Visualize the search tree of the OK children"
   ]
  },
  {
   "cell_type": "markdown",
   "metadata": {},
   "source": []
  },
  {
   "cell_type": "code",
   "execution_count": null,
   "metadata": {},
   "outputs": [],
   "source": []
  }
 ],
 "metadata": {
  "kernelspec": {
   "display_name": "Python [conda env:minervaenv]",
   "language": "python",
   "name": "conda-env-minervaenv-py"
  },
  "language_info": {
   "codemirror_mode": {
    "name": "ipython",
    "version": 3
   },
   "file_extension": ".py",
   "mimetype": "text/x-python",
   "name": "python",
   "nbconvert_exporter": "python",
   "pygments_lexer": "ipython3",
   "version": "3.9.18"
  }
 },
 "nbformat": 4,
 "nbformat_minor": 2
}
